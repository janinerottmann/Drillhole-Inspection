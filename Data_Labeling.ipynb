{
  "nbformat": 4,
  "nbformat_minor": 0,
  "metadata": {
    "colab": {
      "name": "Untitled10.ipynb",
      "provenance": [],
      "authorship_tag": "ABX9TyOFsRjc5S7G7s3sxARuM7Mo",
      "include_colab_link": true
    },
    "kernelspec": {
      "name": "python3",
      "display_name": "Python 3"
    }
  },
  "cells": [
    {
      "cell_type": "markdown",
      "metadata": {
        "id": "view-in-github",
        "colab_type": "text"
      },
      "source": [
        "<a href=\"https://colab.research.google.com/github/janinerottmann/Drillhole-Inspection/blob/master/Data_Labeling.ipynb\" target=\"_parent\"><img src=\"https://colab.research.google.com/assets/colab-badge.svg\" alt=\"Open In Colab\"/></a>"
      ]
    },
    {
      "cell_type": "markdown",
      "metadata": {
        "id": "er6vOf-Al9x_",
        "colab_type": "text"
      },
      "source": [
        "#Data Labeling\n",
        "\n",
        "This notebook demonstrates the assignment of sensor data logs to the individual drills. We use thresholds to identify the points in time when accelleration rises above a constant level of 12N and falls again. These two points in time mark the start and end points of each drill. This way we automatically extract all drillholes from the recording log of the entire production process including set-up times of a gearbox component."
      ]
    },
    {
      "cell_type": "code",
      "metadata": {
        "id": "-CGNi9Fyl8cb",
        "colab_type": "code",
        "colab": {}
      },
      "source": [
        "import pandas as pd\n",
        "import numpy as np\n",
        "import matplotlib.pyplot as plt"
      ],
      "execution_count": null,
      "outputs": []
    },
    {
      "cell_type": "code",
      "metadata": {
        "id": "sNG2F4-CmFaV",
        "colab_type": "code",
        "colab": {}
      },
      "source": [
        "from google.colab import drive\n",
        "drive.mount('/content/drive')"
      ],
      "execution_count": null,
      "outputs": []
    },
    {
      "cell_type": "code",
      "metadata": {
        "id": "bvtiyeOPmHEA",
        "colab_type": "code",
        "colab": {}
      },
      "source": [
        "# change working directory\n",
        "!pwd\n",
        "%cd ./drive/My\\ Drive"
      ],
      "execution_count": null,
      "outputs": []
    },
    {
      "cell_type": "code",
      "metadata": {
        "id": "eV24bjH5mIr4",
        "colab_type": "code",
        "colab": {}
      },
      "source": [
        "datafolder = 'data/'"
      ],
      "execution_count": null,
      "outputs": []
    },
    {
      "cell_type": "markdown",
      "metadata": {
        "id": "tjspUPlnmKqI",
        "colab_type": "text"
      },
      "source": [
        "##Prepare Quality File"
      ]
    },
    {
      "cell_type": "code",
      "metadata": {
        "id": "_MwXssOEmLLF",
        "colab_type": "code",
        "colab": {}
      },
      "source": [
        "qualityFile = datafolder+'Bearbeitungszeiten Zahnträger fertig.xlsx'\n",
        "quality = pd.read_excel(qualityFile,header=None)"
      ],
      "execution_count": null,
      "outputs": []
    },
    {
      "cell_type": "code",
      "metadata": {
        "id": "Vd3VBH3amODH",
        "colab_type": "code",
        "colab": {}
      },
      "source": [
        "NEN = quality[2][0]#/1e3\n",
        "OTG = float(quality[2][1][1:])*1e5\n",
        "UTG = float(quality[2][2][1:])*1e5\n",
        "Nmax = NEN + OTG\n",
        "Nmin = NEN + UTG\n",
        "quality = pd.read_excel(qualityFile,skiprows=3)\n",
        "quality.dropna(subset=['Zeit','Bohrloch-Nummer'],inplace=True) \n",
        "\n",
        "print('NEN: {}'.format(NEN))\n",
        "print('OTG: {}'.format(OTG))\n",
        "print('UTG: {}'.format(UTG))\n",
        "print('-'*5)\n",
        "print('Nmax: {}'.format(Nmax))\n",
        "print('Nmin: {}'.format(Nmin))\n",
        "\n",
        " \n",
        "\n",
        "quality.rename(columns={'0°-180°':'p1',\n",
        "                       '90°-270°':'p2',\n",
        "                       '0°-180°.1':'p3',\n",
        "                       '90°-270°.1':'p4',\n",
        "                       '0°-180°.2':'p5',\n",
        "                      '90°-270°.2':'p6',\n",
        "                       'Bohrloch-Nummer':'BohrlochNr',\n",
        "                       'Teil Nr.':'TeilNr'},inplace=True)\n",
        "\n",
        " \n",
        "\n",
        "## Fill part number\n",
        "\n",
        "v = 0\n",
        "\n",
        "for k in range(len(quality)):\n",
        "    vrow = quality.TeilNr[k]\n",
        "    if np.isnan(vrow):\n",
        "        quality.TeilNr[k] = v\n",
        "    else:\n",
        "        v = vrow\n",
        "## Add clasifier column\n",
        "\n",
        "l_col = ['p'+str(k) for k in range(1,7)]\n",
        "\n",
        " \n",
        "\n",
        "S = pd.Series([False for k in range(len(quality))])\n",
        "for c in l_col:\n",
        "# c = l_col[0]\n",
        "    bup = quality[c] >= Nmax\n",
        "    blow = quality[c] <= Nmin\n",
        "    S = S | bup\n",
        "    S = S | blow\n",
        "\n",
        "S = S | ~quality.Auffälligkeiten.isna()\n",
        "\n",
        "quality['classifier'] = S"
      ],
      "execution_count": null,
      "outputs": []
    },
    {
      "cell_type": "markdown",
      "metadata": {
        "id": "a-Fi4PEFmTVF",
        "colab_type": "text"
      },
      "source": [
        "##Load Sensor Data"
      ]
    },
    {
      "cell_type": "code",
      "metadata": {
        "id": "bMSxeIlymTwE",
        "colab_type": "code",
        "colab": {}
      },
      "source": [
        "bauteile = [3,4,6,7,8,9,10,11,12,13,14,15,16,17,18,19,20]"
      ],
      "execution_count": null,
      "outputs": []
    },
    {
      "cell_type": "code",
      "metadata": {
        "id": "sFwSwWhDmXJV",
        "colab_type": "code",
        "colab": {}
      },
      "source": [
        "data=pd.DataFrame()\n",
        "files = []\n",
        "\n",
        "for bauteil in bauteile:\n",
        "  file = 'part' + str(bauteil)+'.feather'\n",
        "  files = np.append(files, file)"
      ],
      "execution_count": null,
      "outputs": []
    },
    {
      "cell_type": "markdown",
      "metadata": {
        "id": "fida-RB0mbWu",
        "colab_type": "text"
      },
      "source": [
        "##Labeling Function"
      ]
    },
    {
      "cell_type": "code",
      "metadata": {
        "id": "9b4rwF8hmb2M",
        "colab_type": "code",
        "colab": {}
      },
      "source": [
        "def label(file, bauteil):\n",
        "  \n",
        "  #read df\n",
        "  df = pd.read_feather(datafolder + file)\n",
        "\n",
        "  #access global file\n",
        "  global qualityIndex\n",
        "\n",
        "  #transform df\n",
        "  df['changed'] = (df['rmsAccX'] > 12).astype(int).diff().fillna(1).astype(int) #set threshold\n",
        "  df = df[df.changed != 0]\n",
        "  df = df[['Timestamp', 'Time', 'rmsAccX', 'changed']]\n",
        "  df = df.rename_axis('start').reset_index()\n",
        "  df['end'] = df['start'].shift(-1)\n",
        "  df['DataPoints'] = df['end'] - df['start']\n",
        "  df = df[df.DataPoints.between(38000,50000)]\n",
        "  df = df.reset_index()\n",
        "  df = df[['start', 'end']]\n",
        "  df1 = df.loc[0:47]\n",
        "  df2 = df.loc[48:95]\n",
        "  df1['BohrlochNr'] = np.arange(1, len(df1)+1)\n",
        "  df2['BohrlochNr'] = np.arange(1, len(df2)+1)\n",
        "  df = df1.merge(df2, left_on = 'BohrlochNr', right_on = 'BohrlochNr')\n",
        "\n",
        "  #merge df with quality\n",
        "  df['TeilNr'] = bauteil\n",
        "  qualityIndex = quality.merge(df, left_on = ['BohrlochNr','TeilNr'], right_on = ['BohrlochNr','TeilNr'])"
      ],
      "execution_count": null,
      "outputs": []
    },
    {
      "cell_type": "code",
      "metadata": {
        "id": "FQtxtTFeme3y",
        "colab_type": "code",
        "colab": {}
      },
      "source": [
        "for file, bauteil in zip(files, bauteile):\n",
        "     label(file, bauteil)\n",
        "     data = data.append(qualityIndex, ignore_index = True)"
      ],
      "execution_count": null,
      "outputs": []
    },
    {
      "cell_type": "markdown",
      "metadata": {
        "id": "cpoPaFq0miox",
        "colab_type": "text"
      },
      "source": [
        "##Export data as csv"
      ]
    },
    {
      "cell_type": "code",
      "metadata": {
        "id": "7wks4ciImmmI",
        "colab_type": "code",
        "colab": {}
      },
      "source": [
        "#export file as csv\n",
        "data.to_csv(r'./data/quality.csv', index = False, header=True)"
      ],
      "execution_count": null,
      "outputs": []
    }
  ]
}